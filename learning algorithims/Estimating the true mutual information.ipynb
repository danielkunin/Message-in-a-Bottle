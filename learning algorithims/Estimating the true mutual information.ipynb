{
 "cells": [
  {
   "cell_type": "markdown",
   "metadata": {},
   "source": [
    "# Estimating the true mutual information\n",
    "\n",
    "Here is a method for estimating the true mutual information for the multivariate gaussian. This is a 'good' estimator for this particular distribution and can serve as a benchmark for more general estimators. \n",
    "\n",
    "$$Y \\sim \\pi \\text{ over } \\{1,...,k\\}$$  \n",
    "$$X|Y=y \\sim \\mathcal{N}(\\mu_y, \\Sigma_y) \\text{ over } \\mathbb{R}^n$$\n",
    "\n",
    "$$I(X, Y) = \\sum_y \\int \\text{d}x^n p(x,y) \\log\\left(\\frac{p(x,y)}{p(x)p(y)}\\right)\n",
    "          = \\mathbb{E}\\left[\\log\\left(\\frac{P(X|Y)}{\\sum_{y'}p(X|y')p(y')}\\right)\\right]$$\n",
    "\n",
    "Estimate $I$ by generating samples $(x^{(i)}, y^{(i)})$, $i=1,...,m$\n",
    "$$\\hat{I} \\approx \\frac{1}{m}\\sum_{i=1}^{m}\\log\\left(\\frac{p(x^{(i)}| y^{(i)})}{\\sum_{y'}p(x^{(i)}| y')p(y')}\\right)$$"
   ]
  },
  {
   "cell_type": "code",
   "execution_count": 14,
   "metadata": {
    "collapsed": true
   },
   "outputs": [],
   "source": [
    "%matplotlib inline\n",
    "import numpy as np\n",
    "import scipy as sp\n",
    "import matplotlib.pyplot as plt\n",
    "import seaborn\n",
    "from numpy import random\n",
    "from scipy.stats import multivariate_normal"
   ]
  },
  {
   "cell_type": "code",
   "execution_count": 15,
   "metadata": {
    "collapsed": true
   },
   "outputs": [],
   "source": [
    "def I_hat(pi, mus, Sigs, m):\n",
    "    '''INPUT:\n",
    "    pi : ndarray of shape (k,)\n",
    "        k = number of classes\n",
    "        pi[y] = P(Y = y)\n",
    "    mus : ndarray of shape (k, n)\n",
    "        mus[y] = mean vector for class y \n",
    "    Sigs : ndarray of shape (k, n, n)\n",
    "        Sigs[y] = covariance matrix for class y\n",
    "    m : integer\n",
    "        m = number of samples\n",
    "    OUTPUT:\n",
    "    dict with contents\n",
    "    'ys' : ndarray of shape (m,)\n",
    "        'ys'[i] = ith sample of Y\n",
    "    'xs' : ndarray of shape (m, n)\n",
    "        'xs'[i] = ith sample of X\n",
    "    'I' : ndarray of shape (m,)\n",
    "        'I'[i] = estimate of I after ith sample\n",
    "    '''\n",
    "    k = np.size(pi)\n",
    "    print('k = '+str(k))\n",
    "    ys = random.choice(k, size=m, p=pi)\n",
    "    print('calculated ys, first 5 = '+str(ys[:5]))\n",
    "    xs = np.array([random.multivariate_normal(mus[y_i], Sigs[y_i]) \n",
    "                   for y_i in ys])\n",
    "    print('calculated xs, first 5 = '+str(xs[:5]))\n",
    "    log_p_xi_g_yi = np.array([multivariate_normal.logpdf(x_i, mus[y_i], Sigs[y_i]) \n",
    "                              for x_i, y_i in zip(xs, ys)])\n",
    "    print('calculated log(p(x_i | y_i)), first 5 = '+str(log_p_xi_g_yi[:5]))\n",
    "    log_p_xi = np.log(np.array([np.sum([multivariate_normal.pdf(x_i, mus[y], Sigs[y])*pi[y] \n",
    "                                        for y in np.arange(k)]) \n",
    "                                for x_i in xs]))\n",
    "    print('calculated log(p(x_i)), first 5 = '+str(log_p_xi[:5]))\n",
    "    I_ = log_p_xi_g_yi - log_p_xi\n",
    "    I = np.cumsum(I_)/(np.arange(m)+1)\n",
    "    print('calculated I, first 5 steps = '+str(I[:5]))\n",
    "    outputs = {'ys': ys, 'xs': xs, 'I': I}\n",
    "    return outputs"
   ]
  },
  {
   "cell_type": "code",
   "execution_count": 16,
   "metadata": {
    "collapsed": true
   },
   "outputs": [],
   "source": [
    "pi = np.array([0.5, 0.5])\n",
    "mus = np.array([[0., 0.],\n",
    "                [3., 5.]])\n",
    "Sigs = np.array([[[1.,0.],\n",
    "                  [0.,1.]],\n",
    "                 [[3.,2.],\n",
    "                  [2.,10.]]])\n",
    "m = 10000"
   ]
  },
  {
   "cell_type": "code",
   "execution_count": 17,
   "metadata": {},
   "outputs": [
    {
     "name": "stdout",
     "output_type": "stream",
     "text": [
      "k = 2\n",
      "calculated ys, first 5 = [0 0 1 1 1]\n",
      "calculated xs, first 5 = [[ 0.10036502 -1.27409434]\n",
      " [ 1.6177517  -0.58836051]\n",
      " [ 0.19038017  8.88266029]\n",
      " [ 4.99800242  6.80147747]\n",
      " [ 3.44954655  4.48015088]]\n",
      "calculated log(p(x_i | y_i)), first 5 = [-2.65457183 -3.31952139 -6.69384814 -4.14497677 -3.53935679]\n",
      "calculated log(p(x_i)), first 5 = [-3.31152961 -3.84830303 -7.38699533 -4.83812395 -4.23250335]\n",
      "calculated I, first 5 steps = [ 0.65695777  0.59286971  0.62629553  0.64300844  0.65303607]\n"
     ]
    }
   ],
   "source": [
    "outputs = I_hat(pi, mus, Sigs, m)"
   ]
  },
  {
   "cell_type": "code",
   "execution_count": 18,
   "metadata": {},
   "outputs": [
    {
     "data": {
      "image/png": "[encoded data removed]",
      "text/plain": [
       "<matplotlib.figure.Figure at 0x1a13b1be90>"
      ]
     },
     "metadata": {},
     "output_type": "display_data"
    }
   ],
   "source": [
    "plt.hist(outputs['ys']);"
   ]
  },
  {
   "cell_type": "code",
   "execution_count": 19,
   "metadata": {},
   "outputs": [
    {
     "data": {
      "image/png": "[encoded data removed]",
      "text/plain": [
       "<matplotlib.figure.Figure at 0x1a13b29690>"
      ]
     },
     "metadata": {},
     "output_type": "display_data"
    }
   ],
   "source": [
    "plt.scatter(outputs['xs'][:1000,0], outputs['xs'][:1000,1]);"
   ]
  },
  {
   "cell_type": "code",
   "execution_count": 20,
   "metadata": {},
   "outputs": [
    {
     "data": {
      "text/plain": [
       "[<matplotlib.lines.Line2D at 0x1a13bd4210>]"
      ]
     },
     "execution_count": 20,
     "metadata": {},
     "output_type": "execute_result"
    },
    {
     "data": {
      "image/png": "[encoded data removed]",
      "text/plain": [
       "<matplotlib.figure.Figure at 0x1a1377e350>"
      ]
     },
     "metadata": {},
     "output_type": "display_data"
    }
   ],
   "source": [
    "plt.plot(outputs['I'])"
   ]
  },
  {
   "cell_type": "code",
   "execution_count": 21,
   "metadata": {},
   "outputs": [
    {
     "data": {
      "text/plain": [
       "0.53434536357117712"
      ]
     },
     "execution_count": 21,
     "metadata": {},
     "output_type": "execute_result"
    }
   ],
   "source": [
    "outputs['I'][-1]"
   ]
  },
  {
   "cell_type": "code",
   "execution_count": null,
   "metadata": {
    "collapsed": true
   },
   "outputs": [],
   "source": []
  }
 ],
 "metadata": {
  "kernelspec": {
   "display_name": "Python 2",
   "language": "python",
   "name": "python2"
  },
  "language_info": {
   "codemirror_mode": {
    "name": "ipython",
    "version": 2
   },
   "file_extension": ".py",
   "mimetype": "text/x-python",
   "name": "python",
   "nbconvert_exporter": "python",
   "pygments_lexer": "ipython2",
   "version": "2.7.13"
  }
 },
 "nbformat": 4,
 "nbformat_minor": 2
}
