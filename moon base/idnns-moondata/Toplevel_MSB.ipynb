{
 "cells": [
  {
   "cell_type": "code",
   "execution_count": 2,
   "metadata": {
    "collapsed": false
   },
   "outputs": [],
   "source": [
    "%matplotlib inline\n",
    "\n",
    "from idnns.networks import information_network as inet\n",
    "import matplotlib.pyplot as plt\n",
    "import numpy as np\n",
    "import idnns.plots.utils as utils\n",
    "\n",
    "def plotlearningcurve(x,y, z):\n",
    "    fig, ax = plt.subplots(figsize=(10,5))\n",
    "    fig.suptitle(\"the error Plane\", fontsize=\"x-large\")\n",
    "    x = x+1e-8\n",
    "    y = y+1e-8\n",
    "    # information & epoch\n",
    "    plt.subplot(1, 2, 1)\n",
    "    plt.plot(np.log(1-x),np.log(1-x),'r-')\n",
    "    plt.scatter(np.log(1-x), np.log(1-y), c=z, s=20, cmap='viridis')\n",
    "    #ax.fill_between(np.log(1-x), np.log(1-y), np.log(1-x), facecolor='red',alpha = 0.5, interpolate=True)\n",
    "    cbar = plt.colorbar()\n",
    "    cbar.ax.set_ylabel('Epoch', rotation=270)\n",
    "    ax.grid(True)\n",
    "    plt.ylabel('Test Error')\n",
    "    plt.xlabel('Training error')\n",
    "\t\n",
    "    plt.subplot(1,2,2)\n",
    "    fig.suptitle(\"Learning Curve\", fontsize=\"x-large\")\n",
    "    plt.plot(z,np.log(1-x),'r--')\n",
    "    plt.plot(z,np.log(1-y),'k-')\n",
    "    plt.legend('Training','Test')\n",
    "\t\n",
    "    plt.show()\n",
    "\t\n",
    "def extract_array(data, name):\n",
    "    results = [[data[j,k][name] for k in range(data.shape[1])] for j in range(data.shape[0])]\n",
    "    return results\n",
    "\t\n",
    "def plotinfo(name, trainerror, testerror, epochid):\n",
    "    trainerror = trainerror+1e-8\n",
    "    testerror = testerror+1e-8\n",
    "    data_array = utils.get_data(name)\n",
    "    data  = np.squeeze(np.array(data_array['informationError'])) #had to add to the save file\n",
    "    I_XT_array = np.array(extract_array(data, 'local_IXT'))\n",
    "    I_TY_array = np.array(extract_array(data, 'local_ITY'))\n",
    "    print(I_XT_array.shape, testerror.shape)\n",
    "    #I_XT_array = np.array(extract_array(data, 'IXT_vartional'))\n",
    "    #I_TY_array = np.array(extract_array(data, 'ITY_vartional'))\n",
    "    #epochsInds = data_array['params']['epochsInds']\n",
    "    fig, ax = plt.subplots(figsize=(10,10))\n",
    "    plt.subplot(2, 2, 1)\n",
    "    plt.scatter(I_XT_array,np.log(1-testerror), c=epochid, s=20, cmap='viridis')\n",
    "    plt.xlabel('I(X;T)')\n",
    "    plt.ylabel('Test Errror')\n",
    "\t\n",
    "    plt.subplot(2, 2, 2)\n",
    "    plt.scatter(np.log(1-trainerror),np.log(1-testerror), c=epochid, s=20, cmap='viridis')\n",
    "    plt.xlabel('Train error')\n",
    "    plt.ylabel('Test Errror')\n",
    "\n",
    "    plt.subplot(2, 2, 3)\n",
    "    plt.scatter(I_XT_array,I_TY_array, c=epochid, s=20, cmap='viridis')\n",
    "    plt.xlabel('I(X;T)')\n",
    "    plt.ylabel('I(T;Y)')\n",
    "\t\n",
    "    plt.subplot(2, 2, 4)\n",
    "    plt.scatter(np.log(1-trainerror),I_TY_array, c=epochid, s=20, cmap='viridis')\n",
    "    plt.xlabel('Train error')\n",
    "    plt.ylabel('I(T;Y)')\n",
    "\t\n",
    "    plt.show()\n",
    "\t\n",
    "\n"
   ]
  },
  {
   "cell_type": "code",
   "execution_count": 4,
   "metadata": {
    "collapsed": false
   },
   "outputs": [],
   "source": [
    "def main():\n",
    "    import time\n",
    "    t0 = time.time()\n",
    "    #Bulid the netowrk\n",
    "    print ('Building the network')\n",
    "    net = inet.informationNetwork()\n",
    "    net.print_information()\n",
    "    print ('Start running the network')\n",
    "    net.run_network()\n",
    "\t# MSB addtion\n",
    "    temp = net.informationError\n",
    "    #print(np.array(extract_array(temp, 'local_IXT')))\n",
    "    print ('Saving data')\n",
    "    net.save_data()\n",
    "    print ('Ploting figures')\n",
    "    #Plot the newtork\n",
    "    net.plot_network()\n",
    "    #print(net.testerrorsample)\n",
    "    #print(net.trainerrorsample)\n",
    "    plotlearningcurve(net.trainerrorsample, net.testerrorsample, np.linspace(0,8000,len(net.testerrorsample)))\n",
    "    #plotinfo(net.dir_saved, net.trainerrorsample, net.testerrorsample, np.linspace(0,8000,len(net.testerrorsample)))\n",
    "    t1 = time.time()\n",
    "    print(t1-t0)\n"
   ]
  },
  {
   "cell_type": "code",
   "execution_count": 6,
   "metadata": {
    "collapsed": false
   },
   "outputs": [
    {
     "name": "stdout",
     "output_type": "stream",
     "text": [
      "Building the network\n"
     ]
    },
    {
     "name": "stderr",
     "output_type": "stream",
     "text": [
      "usage: __main__.py [-h] [-start_samples START_SAMPLES]\n",
      "                   [-batch_size BATCH_SIZE] [-learning_rate LEARNING_RATE]\n",
      "                   [-num_repeat NUM_OF_REPEATS] [-num_epochs NUM_EPHOCS]\n",
      "                   [-net NET_TYPE] [-inds INDS] [-name NAME]\n",
      "                   [-d_name DATA_NAME] [-num_samples NUM_OF_SAMPLES]\n",
      "                   [-nDistSmpls NDISTSMPLS] [-save_ws [SAVE_WS]]\n",
      "                   [-calc_information [CALC_INFORMATION]]\n",
      "                   [-calc_information_last [CALC_INFORMATION_LAST]]\n",
      "                   [-save_grads [SAVE_GRADS]]\n",
      "                   [-run_in_parallel [RUN_IN_PARALLEL]]\n",
      "                   [-num_of_bins NUM_OF_BINS]\n",
      "                   [-activation_function ACTIVATION_FUNCTION]\n",
      "                   [-iad INTERVAL_ACCURACY_DISPLAY]\n",
      "                   [-interval_information_display INTERVAL_INFORMATION_DISPLAY]\n",
      "                   [-cov_net COV_NET] [-rl [RANDOM_LABELS]]\n",
      "                   [-data_dir DATA_DIR]\n",
      "__main__.py: error: unrecognized arguments: -f C:\\Users\\msb\\AppData\\Roaming\\jupyter\\runtime\\kernel-e82f3eb7-e2b9-4d76-aab4-578c0e9d5986.json\n"
     ]
    },
    {
     "ename": "SystemExit",
     "evalue": "2",
     "output_type": "error",
     "traceback": [
      "An exception has occurred, use %tb to see the full traceback.\n",
      "\u001b[1;31mSystemExit\u001b[0m\u001b[1;31m:\u001b[0m 2\n"
     ]
    }
   ],
   "source": [
    "main()"
   ]
  },
  {
   "cell_type": "code",
   "execution_count": null,
   "metadata": {
    "collapsed": true
   },
   "outputs": [],
   "source": []
  }
 ],
 "metadata": {
  "anaconda-cloud": {},
  "kernelspec": {
   "display_name": "Python [tensorflow]",
   "language": "python",
   "name": "Python [tensorflow]"
  },
  "language_info": {
   "codemirror_mode": {
    "name": "ipython",
    "version": 3
   },
   "file_extension": ".py",
   "mimetype": "text/x-python",
   "name": "python",
   "nbconvert_exporter": "python",
   "pygments_lexer": "ipython3",
   "version": "3.5.4"
  }
 },
 "nbformat": 4,
 "nbformat_minor": 0
}
